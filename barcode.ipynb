{
 "cells": [
  {
   "cell_type": "code",
   "execution_count": 139,
   "metadata": {},
   "outputs": [
    {
     "data": {
      "text/plain": [
       "-1"
      ]
     },
     "execution_count": 139,
     "metadata": {},
     "output_type": "execute_result"
    }
   ],
   "source": [
    "# Cài imutils \"pip install imutils\"\n",
    "import numpy as np\n",
    "import imutils\n",
    "import cv2\n",
    "\n",
    "# Import ảnh và chuyển thành dạng xám\n",
    "my_image = cv2.imread(\"05.jpg\")\n",
    "gray = cv2.cvtColor(my_image, cv2.COLOR_BGR2GRAY)\n",
    " \n",
    "# Giữ các vùng có high horizontal gradient và low vertical gradient\n",
    "ddepth = cv2.cv.CV_32F if imutils.is_cv2() else cv2.CV_32F\n",
    "gx = cv2.Sobel(gray, ddepth=ddepth, dx=1, dy=0, ksize=-1)\n",
    "gy = cv2.Sobel(gray, ddepth=ddepth, dx=0, dy=1, ksize=-1)\n",
    "gd = cv2.subtract(gx, gy)\n",
    "gd = cv2.convertScaleAbs(gd)\n",
    "\n",
    "blurred = cv2.blur(gd, (9, 9))\n",
    "(_, thresh) = cv2.threshold(blurred, 225, 255, cv2.THRESH_BINARY)\n",
    "\n",
    "\n",
    "# Chọn tham số và thresholding\n",
    "kernel = cv2.getStructuringElement(cv2.MORPH_RECT, (25, 10))\n",
    "image_temp = cv2.morphologyEx(thresh, cv2.MORPH_CLOSE, kernel)\n",
    "\n",
    "# Loại bỏ noise\n",
    "image_temp = cv2.erode(image_temp, None, iterations = 4)\n",
    "image_temp = cv2.dilate(image_temp, None, iterations = 4)\n",
    "\n",
    "# cv2.imshow(\"Image\", image_temp)\n",
    "# cv2.waitKey(0)\n",
    "\n",
    "# Tìm đường viền trong ảnh threshold, giữ lại vùng lớn nhất\n",
    "cnts = cv2.findContours(image_temp.copy(), cv2.RETR_EXTERNAL,\n",
    "\tcv2.CHAIN_APPROX_SIMPLE)\n",
    "cnts = imutils.grab_contours(cnts)\n",
    "c = sorted(cnts, key = cv2.contourArea, reverse = True)[0]\n",
    "  \n",
    "# Vẽ box xung quanh vùng chọn \n",
    "rect = cv2.minAreaRect(c)\n",
    "box = cv2.cv.BoxPoints(rect) if imutils.is_cv2() else cv2.boxPoints(rect)\n",
    "box = np.int0(box)\n",
    "\n",
    "cv2.drawContours(my_image, [box], -1, (0, 255, 0), 3)\n",
    "cv2.imshow(\"5.jpg\", my_image)\n",
    "cv2.waitKey(0)"
   ]
  }
 ],
 "metadata": {
  "kernelspec": {
   "display_name": "Python 3",
   "language": "python",
   "name": "python3"
  },
  "language_info": {
   "codemirror_mode": {
    "name": "ipython",
    "version": 3
   },
   "file_extension": ".py",
   "mimetype": "text/x-python",
   "name": "python",
   "nbconvert_exporter": "python",
   "pygments_lexer": "ipython3",
   "version": "3.5.3"
  }
 },
 "nbformat": 4,
 "nbformat_minor": 2
}
